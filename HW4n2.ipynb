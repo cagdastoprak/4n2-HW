{
  "nbformat": 4,
  "nbformat_minor": 0,
  "metadata": {
    "colab": {
      "name": "HW4n2.ipynb",
      "provenance": []
    },
    "kernelspec": {
      "name": "python3",
      "display_name": "Python 3"
    }
  },
  "cells": [
    {
      "cell_type": "markdown",
      "metadata": {
        "id": "aB7b6ngDZJ6i",
        "colab_type": "text"
      },
      "source": [
        "1_) Rank değişkenini kategorik olarak değerlendirmenin avantaj ve dezavantajlarını göz önünde bulundurun. Argümanlarınızı mentorunuzla tartışın."
      ]
    },
    {
      "cell_type": "markdown",
      "metadata": {
        "id": "n79rj6E-ZOoB",
        "colab_type": "text"
      },
      "source": [
        "1_) Kategorik olarak Rank değerlendirdiğimizde aralıarında herhangi bir matematiksel ilişki kullanmamızın önüne geçmiş oluyoruz böylece değerlendirirken sadece 17.18. den üstün olduğu ve sayısal olarak bir önyargı olmadığını anlıyoruz. Bu sayede yapacağımız analizlerde de önyargısız ve sadece bir sıralama veren bir sonuç almış oluruz."
      ]
    },
    {
      "cell_type": "markdown",
      "metadata": {
        "id": "hYTJIvVqZuqw",
        "colab_type": "text"
      },
      "source": [
        "2_) Aşağıdaki değişkenlerin türlerini belirleyin:\n",
        "\n",
        "Yaş\n",
        "Maaş\n",
        "Gelir\n",
        "Müşteri türü\n",
        "Hisse senedi fiyatı"
      ]
    },
    {
      "cell_type": "markdown",
      "metadata": {
        "id": "N9EZ6aCVZ1xp",
        "colab_type": "text"
      },
      "source": [
        "Yaş >> Sürekli > Oran Değişkeni\n",
        "Maaş >> Sürekli > Oran Değişkeni > 0 ı da var aralarında büyüklük farkı ve 1 e 2 giib oranı da var.\n",
        "Gelir >> Sürekli > Oran Değişkeni > Yine maaş ile aynı 0 ı da olabilir derece de verir 1 e 2 diye\n",
        "Müşteri Türü >> Kategorik > Nominal > Her bir tür için bir kod girilir böylece kategori gruplaması dışında bi değer vermez\n",
        "Hisse Senedi Fiyatı >> Sürekli Oran Değişkeni > Yine Maaş ve Gelir gibi 0 ı da olan sonsuza giden ve aralarında 1 e 2 oran olabilecek veri türü"
      ]
    }
  ]
}